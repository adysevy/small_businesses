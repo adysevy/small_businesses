{
 "metadata": {
  "name": "",
  "signature": "sha256:9baac65d50cd7d62bee545c719e088d8c7254d57f569a83f377f81a651dc0ed9"
 },
 "nbformat": 3,
 "nbformat_minor": 0,
 "worksheets": [
  {
   "cells": [
    {
     "cell_type": "code",
     "collapsed": false,
     "input": [
      "import pandas as pd\n",
      "from datetime import datetime\n",
      "import matplotlib.pyplot as plt\n",
      "import numpy as np\n",
      "\n",
      "df = pd.read_csv('Data/ECB_Notice_of_Violations_2014.csv')\n",
      "df = df.dropna(subset=['Charge #1: Code Description'])"
     ],
     "language": "python",
     "metadata": {},
     "outputs": [],
     "prompt_number": 5
    },
    {
     "cell_type": "code",
     "collapsed": false,
     "input": [
      "df['Charge #1: Code Description'] = df['Charge #1: Code Description'].apply(lambda x: str(x))"
     ],
     "language": "python",
     "metadata": {},
     "outputs": [],
     "prompt_number": 6
    },
    {
     "cell_type": "code",
     "collapsed": false,
     "input": [
      "from sklearn.feature_extraction.text import TfidfVectorizer\n",
      "from nltk import word_tokenize\n",
      "from nltk.stem.porter import PorterStemmer\n",
      "\n",
      "\n",
      "stemmer = PorterStemmer()\n",
      "\n",
      "def my_tokenizer(sent):\n",
      "    tokens = word_tokenize(sent)\n",
      "    return [stemmer.stem(w) for w in tokens]\n",
      "\n",
      "vectorizer = TfidfVectorizer(tokenizer=my_tokenizer, stop_words='english', ngram_range=(1, 2))\n",
      "X = vectorizer.fit_transform(df['Charge #1: Code Description'].values)\n"
     ],
     "language": "python",
     "metadata": {},
     "outputs": [],
     "prompt_number": 7
    },
    {
     "cell_type": "code",
     "collapsed": false,
     "input": [
      "from sklearn.cluster import KMeans\n",
      "\n",
      "violationsPerAgency = 10\n",
      "K = len(df['Issuing Agency'].unique()) * violationsPerAgency\n",
      "km = KMeans(n_clusters=K, max_iter=100, n_init=1)\n",
      "km.fit(X)"
     ],
     "language": "python",
     "metadata": {},
     "outputs": [
      {
       "metadata": {},
       "output_type": "pyout",
       "prompt_number": 8,
       "text": [
        "KMeans(copy_x=True, init='k-means++', max_iter=100, n_clusters=330, n_init=1,\n",
        "    n_jobs=1, precompute_distances=True, random_state=None, tol=0.0001,\n",
        "    verbose=0)"
       ]
      }
     ],
     "prompt_number": 8
    },
    {
     "cell_type": "code",
     "collapsed": false,
     "input": [
      "print km.labels_[0:10]\n",
      "df['cluster'] = km.labels_\n",
      "df.to_csv(\"ECB_2014_with_cluster.csv\")"
     ],
     "language": "python",
     "metadata": {},
     "outputs": [
      {
       "output_type": "stream",
       "stream": "stdout",
       "text": [
        "[ 13   3  36  37 292   0  60   1  33  99]\n"
       ]
      }
     ],
     "prompt_number": 9
    },
    {
     "cell_type": "code",
     "collapsed": false,
     "input": [
      "writer = open('res_4.txt','w')\n",
      "for i in range(K):\n",
      "    writer.write(str(len(df[df.cluster==i]['Charge #1: Code Description'])) +'\\n')\n",
      "    for p in df[df.cluster==i]['Charge #1: Code Description'].unique():\n",
      "        writer.write(p+'\\n')\n",
      "    writer.write('-------------------------------------------------------\\n')\n",
      "writer.close()"
     ],
     "language": "python",
     "metadata": {},
     "outputs": [],
     "prompt_number": 10
    },
    {
     "cell_type": "code",
     "collapsed": false,
     "input": [
      "# 1.\n",
      "# Params:\n",
      "# ngram_range=(1, 3)\n",
      "# violationsPerAgency = 10\n",
      "# binary=False\n",
      "\n",
      "# 2.\n",
      "# Params:\n",
      "# ngram_range=(1, 3)\n",
      "# violationsPerAgency = 10\n",
      "# binary=True\n",
      "\n",
      "# 3.\n",
      "# Params:\n",
      "# ngram_range=(1, 3)\n",
      "# violationsPerAgency = 5\n",
      "# binary=False\n",
      "\n",
      "# 4.\n",
      "# Params:\n",
      "# ngram_range=(1, 2)\n",
      "# violationsPerAgency = 10\n",
      "# binary=False"
     ],
     "language": "python",
     "metadata": {},
     "outputs": [],
     "prompt_number": 11
    },
    {
     "cell_type": "code",
     "collapsed": false,
     "input": [
      "print \"number of clusters: \" + str(len(df['cluster'].unique()))\n",
      "print \"number of categories: \" + str(len(df['Charge #1: Code Description'].unique()))"
     ],
     "language": "python",
     "metadata": {},
     "outputs": [
      {
       "output_type": "stream",
       "stream": "stdout",
       "text": [
        "number of clusters: 330\n",
        "number of categories: 972"
       ]
      },
      {
       "output_type": "stream",
       "stream": "stdout",
       "text": [
        "\n"
       ]
      }
     ],
     "prompt_number": 10
    },
    {
     "cell_type": "code",
     "collapsed": false,
     "input": [
      "print df['Violation Location (Borough)'].unique()"
     ],
     "language": "python",
     "metadata": {},
     "outputs": [
      {
       "output_type": "stream",
       "stream": "stdout",
       "text": [
        "['MANHATTAN' 'BROOKLYN' 'BRONX' 'QUEENS' 'STATEN IS' 'NOT NYC']\n"
       ]
      }
     ],
     "prompt_number": 11
    },
    {
     "cell_type": "code",
     "collapsed": false,
     "input": [
      "violations_per_agency = df.groupby(['Issuing Agency'])['Charge #1: Code Description']\\\n",
      "                                    .nunique().sort(ascending=False, inplace=False)\n",
      "print violations_per_agency.head()"
     ],
     "language": "python",
     "metadata": {},
     "outputs": [
      {
       "output_type": "stream",
       "stream": "stdout",
       "text": [
        "Issuing Agency\n",
        "DEPT. OF BUILDINGS                202\n",
        "POLICE DEPARTMENT                 158\n",
        "DEPT OF TRANSPORTATION            120\n",
        "SANITATION OTHERS                 116\n",
        "AGENCY CODE MISSING OR INVALID    106\n",
        "Name: Charge #1: Code Description, dtype: int64\n"
       ]
      }
     ],
     "prompt_number": 27
    },
    {
     "cell_type": "code",
     "collapsed": false,
     "input": [
      "new_violations_per_agency = df.groupby(['Issuing Agency'])['cluster']\\\n",
      "                                    .nunique().sort(ascending=False, inplace=False)\n",
      "print new_violations_per_agency.head()"
     ],
     "language": "python",
     "metadata": {},
     "outputs": [
      {
       "output_type": "stream",
       "stream": "stdout",
       "text": [
        "Issuing Agency\n",
        "AGENCY CODE MISSING OR INVALID    92\n",
        "POLICE DEPARTMENT                 87\n",
        "DEPT. OF BUILDINGS                80\n",
        "SANITATION OTHERS                 69\n",
        "DEPT OF TRANSPORTATION            65\n",
        "Name: cluster, dtype: int64\n"
       ]
      }
     ],
     "prompt_number": 28
    },
    {
     "cell_type": "code",
     "collapsed": false,
     "input": [
      "# merge before and after\n",
      "agency_compare = pd.concat([violations_per_agency, new_violations_per_agency], axis=1)\n",
      "agency_compare.sort(columns ='Charge #1: Code Description',ascending=False, inplace=True)\n",
      "agency_compare.columns = ['before','after']"
     ],
     "language": "python",
     "metadata": {},
     "outputs": [],
     "prompt_number": 29
    },
    {
     "cell_type": "code",
     "collapsed": false,
     "input": [
      "%matplotlib inline\n",
      "import matplotlib as mpl\n",
      "\n",
      "\n",
      "# default ploting params\n",
      "pd.options.display.mpl_style = 'default'\n",
      "mpl.rcParams['font.family'] = 'sans-serif'\n",
      "\n",
      "# plot\n",
      "ax = agency_compare.head(20).plot(kind='barh',fontsize=8, color = ['#de2d26','#3182bd'], width=0.8, alpha = 0.8)\n",
      "\n",
      "# axis and grid\n",
      "ax.spines[\"top\"].set_visible(False)  \n",
      "ax.spines[\"bottom\"].set_visible(False)  \n",
      "ax.spines[\"right\"].set_visible(False)  \n",
      "ax.yaxis.grid(False)\n",
      "ax.xaxis.grid(linestyle='-',linewidth=0.1,which = 'minor',alpha=0.1) \n",
      "ax.set_axis_bgcolor('w')\n",
      "\n",
      "# title and labels\n",
      "ax.set_xlabel('# of Violation Categories',fontsize=12)\n",
      "\n",
      "# legend\n",
      "legend = ax.legend(loc='best')\n",
      "frame = legend.get_frame()\n",
      "frame.set_facecolor('w')\n",
      "\n",
      "# save figure\n",
      "plt.savefig('figures/by_agency.png', format='png', dpi=1200,bbox_inches='tight')\n"
     ],
     "language": "python",
     "metadata": {},
     "outputs": [
      {
       "metadata": {},
       "output_type": "display_data",
       "png": "[encoded data removed]",
       "text": [
        "<matplotlib.figure.Figure at 0x140ea550>"
       ]
      }
     ],
     "prompt_number": 31
    },
    {
     "cell_type": "code",
     "collapsed": false,
     "input": [
      "agency_compare['% of decrease'] = 100.00*(agency_compare['before'] - agency_compare['after']) \\\n",
      "                                    / agency_compare['before']"
     ],
     "language": "python",
     "metadata": {},
     "outputs": [],
     "prompt_number": 32
    },
    {
     "cell_type": "code",
     "collapsed": false,
     "input": [
      "# plot\n",
      "ax = agency_compare['% of decrease'].head(15).plot(kind='barh',fontsize=8, color = '#b2df8a')\n",
      "\n",
      "# axis and grid\n",
      "ax.spines[\"top\"].set_visible(False)  \n",
      "ax.spines[\"bottom\"].set_visible(False)  \n",
      "ax.spines[\"right\"].set_visible(False)  \n",
      "ax.yaxis.grid(False)\n",
      "ax.xaxis.grid(linestyle='-',linewidth=0.1,which = 'minor',alpha=0.1) \n",
      "ax.set_axis_bgcolor('w')\n",
      "\n",
      "# labels\n",
      "ax.set_xlabel('% of Violations Categories Decrease',fontsize=12)\n",
      "\n",
      "# save figure\n",
      "plt.savefig('figures/by_agency_decrease_per.png', format='png', dpi=1200,bbox_inches='tight')"
     ],
     "language": "python",
     "metadata": {},
     "outputs": [
      {
       "metadata": {},
       "output_type": "display_data",
       "png": "[encoded data removed]",
       "text": [
        "<matplotlib.figure.Figure at 0x12d2c2e8>"
       ]
      }
     ],
     "prompt_number": 33
    },
    {
     "cell_type": "code",
     "collapsed": false,
     "input": [
      "from datetime import datetime\n",
      "df['Violation Date'].head()\n",
      "df['Violation Date']= df['Violation Date'].apply(lambda x: datetime.strptime(x, '%m/%d/%Y'))"
     ],
     "language": "python",
     "metadata": {},
     "outputs": [],
     "prompt_number": 20
    },
    {
     "cell_type": "code",
     "collapsed": false,
     "input": [
      "df['Violation Date'].head()"
     ],
     "language": "python",
     "metadata": {},
     "outputs": [
      {
       "metadata": {},
       "output_type": "pyout",
       "prompt_number": 21,
       "text": [
        "0   2014-12-31\n",
        "1   2014-12-31\n",
        "2   2014-12-31\n",
        "3   2014-12-31\n",
        "4   2014-12-31\n",
        "Name: Violation Date, dtype: datetime64[ns]"
       ]
      }
     ],
     "prompt_number": 21
    },
    {
     "cell_type": "code",
     "collapsed": false,
     "input": [
      "df['Violation Month'] = df['Violation Date'].apply(lambda x: x.month)\n",
      "df['Violation Month'].head()"
     ],
     "language": "python",
     "metadata": {},
     "outputs": [
      {
       "metadata": {},
       "output_type": "pyout",
       "prompt_number": 22,
       "text": [
        "0    12\n",
        "1    12\n",
        "2    12\n",
        "3    12\n",
        "4    12\n",
        "Name: Violation Month, dtype: int64"
       ]
      }
     ],
     "prompt_number": 22
    },
    {
     "cell_type": "code",
     "collapsed": false,
     "input": [
      "groups = df.groupby(['Violation Month','Violation Location (Borough)','Violation Location (Block No.)'\\\n",
      "                     ,'Violation Location (Lot No.)'])['Charge #1: Code Description']\\\n",
      "                        .nunique().sort(ascending=False, inplace=False)\n",
      "print groups.mean()"
     ],
     "language": "python",
     "metadata": {},
     "outputs": [
      {
       "output_type": "stream",
       "stream": "stdout",
       "text": [
        "1.2059095586\n"
       ]
      }
     ],
     "prompt_number": 42
    },
    {
     "cell_type": "code",
     "collapsed": false,
     "input": [
      "print groups.head()"
     ],
     "language": "python",
     "metadata": {},
     "outputs": [
      {
       "output_type": "stream",
       "stream": "stdout",
       "text": [
        "Violation Month  Violation Location (Borough)  Violation Location (Block No.)  Violation Location (Lot No.)\n",
        "12               BROOKLYN                      1736                            18                              18\n",
        "                                               6214                            19                              16\n",
        "7                BRONX                         3191                            30                              15\n",
        "5                MANHATTAN                     1111                            1                               14\n",
        "6                MANHATTAN                     1876                            20                              14\n",
        "Name: Charge #1: Code Description, dtype: int64\n"
       ]
      }
     ],
     "prompt_number": 47
    },
    {
     "cell_type": "code",
     "collapsed": false,
     "input": [
      "new_groups = df.groupby(['Violation Month','Violation Location (Borough)','Violation Location (Block No.)'\\\n",
      "                     ,'Violation Location (Lot No.)'])['cluster']\\\n",
      "                        .nunique().sort(ascending=False, inplace=False)\n",
      "print new_groups.mean()"
     ],
     "language": "python",
     "metadata": {},
     "outputs": [
      {
       "output_type": "stream",
       "stream": "stdout",
       "text": [
        "1.20472993338\n"
       ]
      }
     ],
     "prompt_number": 43
    },
    {
     "cell_type": "code",
     "collapsed": false,
     "input": [
      "%matplotlib inline\n",
      "\n",
      "groups = groups[(groups> 6)]\n",
      "new_groups = new_groups[(new_groups> 6)]\n",
      "print len(groups)\n",
      "print len(new_groups)\n",
      "print groups.mean()\n",
      "print new_groups.mean()\n",
      "ax = groups.hist()\n",
      "ax1 = new_groups.hist()"
     ],
     "language": "python",
     "metadata": {},
     "outputs": [
      {
       "output_type": "stream",
       "stream": "stdout",
       "text": [
        "314\n",
        "295\n",
        "8.02229299363\n",
        "7.98983050847\n"
       ]
      },
      {
       "metadata": {},
       "output_type": "display_data",
       "png": "[encoded data removed]",
       "text": [
        "<matplotlib.figure.Figure at 0x1311beb50>"
       ]
      }
     ],
     "prompt_number": 45
    },
    {
     "cell_type": "code",
     "collapsed": false,
     "input": [
      "groups = df.groupby(['Violation Location (Borough)','Violation Location (Block No.)'\\\n",
      "                     ,'Violation Location (Lot No.)'])['Charge #1: Code Description']\\\n",
      "                        .nunique().sort(ascending=False, inplace=False)\n",
      "print groups.mean()"
     ],
     "language": "python",
     "metadata": {},
     "outputs": []
    },
    {
     "cell_type": "code",
     "collapsed": false,
     "input": [
      "new_groups = df.groupby(['Violation Location (Borough)','Violation Location (Block No.)'\\\n",
      "                     ,'Violation Location (Lot No.)'])['cluster']\\\n",
      "                        .nunique().sort(ascending=False, inplace=False)\n",
      "print new_groups.mean()"
     ],
     "language": "python",
     "metadata": {},
     "outputs": []
    },
    {
     "cell_type": "code",
     "collapsed": false,
     "input": [
      "%matplotlib inline\n",
      "\n",
      "groups = groups[(groups> 7)]\n",
      "new_groups = new_groups[(new_groups> 7)]\n",
      "print len(groups)\n",
      "print len(new_groups)\n",
      "print groups.mean()\n",
      "print new_groups.mean()\n",
      "ax = groups.hist(color = \"#bdd7e7\", linewidth = 0, alpha = 0.6, label = \"before\")\n",
      "ax1 = new_groups.hist(color=\"#a1dab4\", linewidth = 0, alpha = 0.6, label = \"after\")\n",
      "ax.set_xlabel(\"# of Violations\")\n",
      "ax.set_ylabel(\"# of Businesses\")\n",
      "ax.grid(False)\n",
      "ax.legend()\n",
      "ax.spines[\"top\"].set_visible(False)  \n",
      "ax.spines[\"right\"].set_visible(False)  \n",
      "ax.set_xlim((7,25))\n",
      "ax.set_ylim((0,4100))"
     ],
     "language": "python",
     "metadata": {},
     "outputs": []
    },
    {
     "cell_type": "code",
     "collapsed": false,
     "input": [
      "df_top_zips = df[df['Violation Location (Zip Code)'].isin([11221,112207,10467,10457,10458,11368])]\n",
      "# print df_top_zips.head()\n",
      "df_top_zips['Violation Location (Zip Code)'] = df_top_zips['Violation Location (Zip Code)'].apply(lambda x: int(x))"
     ],
     "language": "python",
     "metadata": {},
     "outputs": [],
     "prompt_number": 54
    },
    {
     "cell_type": "code",
     "collapsed": false,
     "input": [
      "len(df_top_zips)"
     ],
     "language": "python",
     "metadata": {},
     "outputs": [
      {
       "metadata": {},
       "output_type": "pyout",
       "prompt_number": 55,
       "text": [
        "44873"
       ]
      }
     ],
     "prompt_number": 55
    },
    {
     "cell_type": "code",
     "collapsed": false,
     "input": [
      "df_top_zips_groups = df_top_zips.groupby(['Violation Location (Zip Code)'])['Charge #1: Code Description']\\\n",
      "                                    .nunique().sort(ascending=False, inplace=False)\n",
      "print df_top_zips_groups"
     ],
     "language": "python",
     "metadata": {},
     "outputs": [
      {
       "output_type": "stream",
       "stream": "stdout",
       "text": [
        "Violation Location (Zip Code)\n",
        "11368                            262\n",
        "11221                            241\n",
        "10457                            237\n",
        "10458                            234\n",
        "10467                            233\n",
        "Name: Charge #1: Code Description, dtype: int64\n"
       ]
      }
     ],
     "prompt_number": 56
    },
    {
     "cell_type": "code",
     "collapsed": false,
     "input": [
      "df_top_zips_groups_cluster = df_top_zips.groupby(['Violation Location (Zip Code)'])['cluster']\\\n",
      "                                    .nunique().sort(ascending=False, inplace=False)\n",
      "print df_top_zips_groups_cluster"
     ],
     "language": "python",
     "metadata": {},
     "outputs": [
      {
       "output_type": "stream",
       "stream": "stdout",
       "text": [
        "Violation Location (Zip Code)\n",
        "11368                            212\n",
        "10458                            210\n",
        "10457                            210\n",
        "10467                            205\n",
        "11221                            201\n",
        "Name: cluster, dtype: int64\n"
       ]
      }
     ],
     "prompt_number": 57
    },
    {
     "cell_type": "code",
     "collapsed": false,
     "input": [
      "zips_compare = pd.concat([df_top_zips_groups, df_top_zips_groups_cluster], axis=1)\n",
      "ax = zips_compare.head(20).plot(kind='barh',fontsize=8, color = ['#fb8072','#43a2ca'])\n",
      "ax.spines[\"top\"].set_visible(False)  \n",
      "ax.spines[\"bottom\"].set_visible(False)  \n",
      "ax.spines[\"right\"].set_visible(False)  \n",
      "ax.yaxis.grid(False)\n",
      "ax.xaxis.grid(linestyle='-',linewidth=0.1,which = 'minor',alpha=0.1) \n",
      "ax.set_axis_bgcolor('w')\n",
      "# savefig('test.png', bbox_inches='tight')`"
     ],
     "language": "python",
     "metadata": {},
     "outputs": [
      {
       "metadata": {},
       "output_type": "display_data",
       "png": "[encoded data removed]",
       "text": [
        "<matplotlib.figure.Figure at 0x10f2be110>"
       ]
      }
     ],
     "prompt_number": 59
    },
    {
     "cell_type": "code",
     "collapsed": false,
     "input": [
      "zips_compare['% of decrease'] = 100.00*(zips_compare['Charge #1: Code Description'] - zips_compare['cluster']) \\\n",
      "                                    / zips_compare['Charge #1: Code Description']\n",
      "ax = zips_compare['% of decrease'].head(15).plot(kind='barh',fontsize=8, color = '#b2df8a')\n",
      "ax.spines[\"top\"].set_visible(False)  \n",
      "ax.spines[\"bottom\"].set_visible(False)  \n",
      "ax.spines[\"right\"].set_visible(False)  \n",
      "ax.set_xlabel('% of Categories Decrease',fontsize=12)\n",
      "ax.yaxis.grid(False)\n",
      "ax.xaxis.grid(linestyle='-',linewidth=0.1,which = 'minor',alpha=0.1) \n",
      "ax.set_axis_bgcolor('w')"
     ],
     "language": "python",
     "metadata": {},
     "outputs": [
      {
       "metadata": {},
       "output_type": "display_data",
       "png": "[encoded data removed]",
       "text": [
        "<matplotlib.figure.Figure at 0x1086cb090>"
       ]
      }
     ],
     "prompt_number": 60
    },
    {
     "cell_type": "code",
     "collapsed": false,
     "input": [
      "df_violations_per_business_zips = df_top_zips.groupby(['Violation Location (Borough)','Violation Location (Block No.)'\\\n",
      "                                                 ,'Violation Location (Lot No.)'])['Charge #1: Code Description']\\\n",
      "                                    .nunique().sort(ascending=False, inplace=False)\n",
      "print df_violations_per_business_zips.head(10)\n",
      "\n",
      "df_violations_clustered_per_business_zips = df_top_zips.groupby(['Violation Location (Borough)','Violation Location (Block No.)'\\\n",
      "                                                 ,'Violation Location (Lot No.)'])['cluster']\\\n",
      "                                    .nunique().sort(ascending=False, inplace=False)\n",
      "print df_violations_clustered_per_business_zips.head(10)"
     ],
     "language": "python",
     "metadata": {},
     "outputs": [
      {
       "output_type": "stream",
       "stream": "stdout",
       "text": [
        "Violation Location (Borough)  Violation Location (Block No.)  Violation Location (Lot No.)\n",
        "BRONX                         3154                            1                               20\n",
        "BROOKLYN                      1647                            18                              20\n",
        "BRONX                         3033                            7501                            18\n",
        "                              3153                            9                               18\n",
        "                              3144                            7                               17\n",
        "                              3050                            84                              17\n",
        "                              3054                            4                               16\n",
        "                              3158                            1                               15\n",
        "                              2792                            58                              15\n",
        "                              3033                            53                              15\n",
        "Name: Charge #1: Code Description, dtype: int64\n",
        "Violation Location (Borough)  Violation Location (Block No.)  Violation Location (Lot No.)\n",
        "BRONX                         3154                            1                               20\n",
        "BROOKLYN                      1647                            18                              20\n",
        "BRONX                         3033                            7501                            18\n",
        "                              3153                            9                               18\n",
        "                              3050                            84                              17\n",
        "                              3144                            7                               17\n",
        "                              3054                            4                               16\n",
        "                              3312                            27                              15\n",
        "                              2792                            58                              15\n",
        "                              3158                            1                               15\n",
        "Name: cluster, dtype: int64"
       ]
      },
      {
       "output_type": "stream",
       "stream": "stdout",
       "text": [
        "\n"
       ]
      }
     ],
     "prompt_number": 26
    },
    {
     "cell_type": "code",
     "collapsed": false,
     "input": [
      "df_violations_per_business_zips.hist()"
     ],
     "language": "python",
     "metadata": {},
     "outputs": [
      {
       "metadata": {},
       "output_type": "pyout",
       "prompt_number": 27,
       "text": [
        "<matplotlib.axes._subplots.AxesSubplot at 0x10cfdf510>"
       ]
      },
      {
       "metadata": {},
       "output_type": "display_data",
       "png": "[encoded data removed]",
       "text": [
        "<matplotlib.figure.Figure at 0x10dbd6a90>"
       ]
      }
     ],
     "prompt_number": 27
    },
    {
     "cell_type": "code",
     "collapsed": false,
     "input": [
      "df_violations_clustered_per_business_zips.hist()"
     ],
     "language": "python",
     "metadata": {},
     "outputs": [
      {
       "metadata": {},
       "output_type": "pyout",
       "prompt_number": 28,
       "text": [
        "<matplotlib.axes._subplots.AxesSubplot at 0x10cfebad0>"
       ]
      },
      {
       "metadata": {},
       "output_type": "display_data",
       "png": "[encoded data removed]",
       "text": [
        "<matplotlib.figure.Figure at 0x10a9d7e50>"
       ]
      }
     ],
     "prompt_number": 28
    },
    {
     "cell_type": "code",
     "collapsed": false,
     "input": [],
     "language": "python",
     "metadata": {},
     "outputs": []
    }
   ],
   "metadata": {}
  }
 ]
}