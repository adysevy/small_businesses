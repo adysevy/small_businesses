{
 "metadata": {
  "name": "",
  "signature": "sha256:535357a70d839570c324413f75fc63b5a92476ca4e68b834710a7c37f5a94f8a"
 },
 "nbformat": 3,
 "nbformat_minor": 0,
 "worksheets": [
  {
   "cells": [
    {
     "cell_type": "code",
     "collapsed": false,
     "input": [
      "import pandas as pd\n",
      "from datetime import datetime\n",
      "import matplotlib.pyplot as plt\n",
      "import numpy as np\n",
      "\n",
      "df = pd.read_csv('Data/ECB_Notice_of_Violations_2014.csv')\n",
      "df = df.dropna(subset=['Charge #1: Code Description'])"
     ],
     "language": "python",
     "metadata": {},
     "outputs": [
      {
       "output_type": "stream",
       "stream": "stderr",
       "text": [
        "/Users/adysevy/anaconda/lib/python2.7/site-packages/pandas/io/parsers.py:1159: DtypeWarning: Columns (14,20,31,58,59,60,61,62,63,64,65,66,67,68,69,70,71,72,73) have mixed types. Specify dtype option on import or set low_memory=False.\n",
        "  data = self._reader.read(nrows)\n"
       ]
      }
     ],
     "prompt_number": 1
    },
    {
     "cell_type": "code",
     "collapsed": false,
     "input": [
      "df['Charge #1: Code Description'] = df['Charge #1: Code Description'].apply(lambda x: str(x))"
     ],
     "language": "python",
     "metadata": {},
     "outputs": [],
     "prompt_number": 2
    },
    {
     "cell_type": "code",
     "collapsed": false,
     "input": [
      "from sklearn.feature_extraction.text import TfidfVectorizer\n",
      "from nltk import word_tokenize\n",
      "from nltk.stem.porter import PorterStemmer\n",
      "\n",
      "\n",
      "stemmer = PorterStemmer()\n",
      "\n",
      "def my_tokenizer(sent):\n",
      "    tokens = word_tokenize(sent)\n",
      "    return [stemmer.stem(w) for w in tokens]\n",
      "\n",
      "vectorizer = TfidfVectorizer(tokenizer=my_tokenizer, stop_words='english', ngram_range=(1, 2))\n",
      "X = vectorizer.fit_transform(df['Charge #1: Code Description'].values)\n"
     ],
     "language": "python",
     "metadata": {},
     "outputs": [],
     "prompt_number": 6
    },
    {
     "cell_type": "code",
     "collapsed": false,
     "input": [
      "from sklearn.cluster import KMeans\n",
      "\n",
      "violationsPerAgency = 10\n",
      "K = len(df['Issuing Agency'].unique()) * violationsPerAgency\n",
      "km = KMeans(n_clusters=K, max_iter=100, n_init=1)\n",
      "km.fit(X)"
     ],
     "language": "python",
     "metadata": {},
     "outputs": [
      {
       "metadata": {},
       "output_type": "pyout",
       "prompt_number": 7,
       "text": [
        "KMeans(copy_x=True, init='k-means++', max_iter=100, n_clusters=330, n_init=1,\n",
        "    n_jobs=1, precompute_distances=True, random_state=None, tol=0.0001,\n",
        "    verbose=0)"
       ]
      }
     ],
     "prompt_number": 7
    },
    {
     "cell_type": "code",
     "collapsed": false,
     "input": [
      "df['cluster'] = km.labels_"
     ],
     "language": "python",
     "metadata": {},
     "outputs": [],
     "prompt_number": 9
    },
    {
     "cell_type": "code",
     "collapsed": false,
     "input": [
      "writer = open('res_4.txt','w')\n",
      "for i in range(K):\n",
      "    writer.write(str(len(df[df.cluster==i]['Charge #1: Code Description'])) +'\\n')\n",
      "    for p in df[df.cluster==i]['Charge #1: Code Description'].unique():\n",
      "        writer.write(p+'\\n')\n",
      "    writer.write('-------------------------------------------------------\\n')\n",
      "writer.close()"
     ],
     "language": "python",
     "metadata": {},
     "outputs": [],
     "prompt_number": 10
    },
    {
     "cell_type": "code",
     "collapsed": false,
     "input": [
      "# 1.\n",
      "# Params:\n",
      "# ngram_range=(1, 3)\n",
      "# violationsPerAgency = 10\n",
      "# binary=False\n",
      "\n",
      "# 2.\n",
      "# Params:\n",
      "# ngram_range=(1, 3)\n",
      "# violationsPerAgency = 10\n",
      "# binary=True\n",
      "\n",
      "# 3.\n",
      "# Params:\n",
      "# ngram_range=(1, 3)\n",
      "# violationsPerAgency = 5\n",
      "# binary=False\n",
      "\n",
      "# 4.\n",
      "# Params:\n",
      "# ngram_range=(1, 2)\n",
      "# violationsPerAgency = 10\n",
      "# binary=False"
     ],
     "language": "python",
     "metadata": {},
     "outputs": [],
     "prompt_number": 11
    },
    {
     "cell_type": "code",
     "collapsed": false,
     "input": [
      "print \"number of clusters: \" + str(len(df['cluster'].unique()))\n",
      "print \"number of categories: \" + str(len(df['Charge #1: Code Description'].unique()))\n",
      "print df.columns"
     ],
     "language": "python",
     "metadata": {},
     "outputs": [
      {
       "output_type": "stream",
       "stream": "stdout",
       "text": [
        "number of clusters: 330\n",
        "number of categories: 972"
       ]
      },
      {
       "output_type": "stream",
       "stream": "stdout",
       "text": [
        "\n",
        "Index([u'Ticket Number', u'Violation Date', u'Violation Time', u'Issuing Agency', u'Respondent Last Name', u'Respondent First Name', u'Balance Due', u'Violation Location (Borough)', u'Violation Location (Block No.)', u'Violation Location (Lot No.)', u'Violation Location (House #)', u'Violation Location (Street Name)', u'Violation Location (Floor)', u'Violation Location (City)', u'Violation Location (Zip Code)', u'Violation Location (State Name)', u'Respondent Address (Borough)', u'Respondent Address (House #)', u'Respondent Address (Street Name)', u'Respondent Address (City)', u'Respondent Address (Zip Code)', u'Respondent Address (State Name)', u'Hearing Status', u'Hearing Result', u'Scheduled Hearing Location', u'Hearing Date', u'Hearing Time', u'Decision Location (Borough)', u'Decision Date', u'Total Violation Amount', u'Violation Details', u'Date Judgment Docketed', u'Respondent Address or Facility Number(For FDNY and DOB Tickets)', u'Penalty Imposed', u'Paid Amount', u'Additional Penalties or Late Fees', u'Compliance Status', u'Violation Description', u'Charge #1: Code', u'Charge #1: Code Section', u'Charge #1: Code Description', u'Charge #1: Infraction Amount', u'Charge #2: Code', u'Charge #2: Code Section', u'Charge #2: Code Description', u'Charge #2: Infraction Amount', u'Charge #3: Code', u'Charge #3: Code Section', u'Charge #3: Code Description', u'Charge #3: Infraction Amount', u'Charge #4: Code', u'Charge #4: Code Section', u'Charge #4: Code Description', u'Charge #4: Infraction Amount', u'Charge #5: Code', u'Charge #5: Code Section', u'Charge #5: Code Description', u'Charge #5: Infraction Amount', u'Charge #6: Code', u'Charge #6: Code Section', u'Charge #6: Code Description', u'Charge #6: Infraction Amount', u'Charge #7: Code', u'Charge #7: Code Section', u'Charge #7: Code Description', u'Charge #7: Infraction Amount', u'Charge #8: Code', u'Charge #8: Code Section', u'Charge #8: Code Description', u'Charge #8: Infraction Amount', u'Charge #9: Code', u'Charge #9: Code Section', u'Charge #9: Code Description', u'Charge #9: Infraction Amount', u'Charge #10: Code', u'Charge #10: Code Section', u'Charge #10: Code Description', u'Charge #10: Infraction Amount', u'cluster'], dtype='object')\n"
       ]
      }
     ],
     "prompt_number": 12
    },
    {
     "cell_type": "code",
     "collapsed": false,
     "input": [
      "groups = df.groupby(['Violation Date','Violation Location (Borough)','Violation Location (Block No.)'\\\n",
      "                     ,'Violation Location (Lot No.)'])['Charge #1: Code Description']\\\n",
      "                        .nunique().sort(ascending=False, inplace=False)\n",
      "print groups.head()"
     ],
     "language": "python",
     "metadata": {},
     "outputs": [
      {
       "output_type": "stream",
       "stream": "stdout",
       "text": [
        "Violation Date  Violation Location (Borough)  Violation Location (Block No.)  Violation Location (Lot No.)\n",
        "12/17/2014      BROOKLYN                      1736                            18                              18\n",
        "12/03/2014      BROOKLYN                      6214                            19                              16\n",
        "06/05/2014      MANHATTAN                     2070                            8                               12\n",
        "06/04/2014      MANHATTAN                     1876                            20                              12\n",
        "06/05/2014      BRONX                         5115                            28                              12\n",
        "Name: Charge #1: Code Description, dtype: int64\n"
       ]
      }
     ],
     "prompt_number": 13
    },
    {
     "cell_type": "code",
     "collapsed": false,
     "input": [
      "new_groups = df.groupby(['Violation Date','Violation Location (Borough)','Violation Location (Block No.)'\\\n",
      "                     ,'Violation Location (Lot No.)'])['cluster']\\\n",
      "                        .nunique().sort(ascending=False, inplace=False)\n",
      "print new_groups.head()"
     ],
     "language": "python",
     "metadata": {},
     "outputs": [
      {
       "output_type": "stream",
       "stream": "stdout",
       "text": [
        "Violation Date  Violation Location (Borough)  Violation Location (Block No.)  Violation Location (Lot No.)\n",
        "12/17/2014      BROOKLYN                      1736                            18                              18\n",
        "12/03/2014      BROOKLYN                      6214                            19                              16\n",
        "06/04/2014      MANHATTAN                     1876                            20                              12\n",
        "06/05/2014      BRONX                         5115                            28                              12\n",
        "                MANHATTAN                     2070                            8                               11\n",
        "Name: cluster, dtype: int64\n"
       ]
      }
     ],
     "prompt_number": 14
    },
    {
     "cell_type": "code",
     "collapsed": false,
     "input": [
      "violations_per_agency = df.groupby(['Issuing Agency'])['Charge #1: Code Description']\\\n",
      "                                    .nunique().sort(ascending=False, inplace=False)\n",
      "print violations_per_agency.head()"
     ],
     "language": "python",
     "metadata": {},
     "outputs": [
      {
       "output_type": "stream",
       "stream": "stdout",
       "text": [
        "Issuing Agency\n",
        "DEPT. OF BUILDINGS                202\n",
        "POLICE DEPARTMENT                 158\n",
        "DEPT OF TRANSPORTATION            120\n",
        "SANITATION OTHERS                 116\n",
        "AGENCY CODE MISSING OR INVALID    106\n",
        "Name: Charge #1: Code Description, dtype: int64\n"
       ]
      }
     ],
     "prompt_number": 15
    },
    {
     "cell_type": "code",
     "collapsed": false,
     "input": [
      "new_violations_per_agency = df.groupby(['Issuing Agency'])['cluster']\\\n",
      "                                    .nunique().sort(ascending=False, inplace=False)\n",
      "print new_violations_per_agency.head()"
     ],
     "language": "python",
     "metadata": {},
     "outputs": [
      {
       "output_type": "stream",
       "stream": "stdout",
       "text": [
        "Issuing Agency\n",
        "AGENCY CODE MISSING OR INVALID    91\n",
        "POLICE DEPARTMENT                 87\n",
        "DEPT. OF BUILDINGS                75\n",
        "SANITATION OTHERS                 71\n",
        "DEPT OF TRANSPORTATION            65\n",
        "Name: cluster, dtype: int64\n"
       ]
      }
     ],
     "prompt_number": 15
    },
    {
     "cell_type": "code",
     "collapsed": false,
     "input": [
      "%matplotlib inline\n",
      "import matplotlib as mpl\n",
      "\n",
      "agency_compare = pd.concat([violations_per_agency, new_violations_per_agency], axis=1)\n",
      "agency_compare.sort(columns ='Charge #1: Code Description',ascending=False, inplace=True)\n",
      "\n",
      "#default ploting params\n",
      "pd.options.display.mpl_style = 'default'\n",
      "mpl.rcParams['font.family'] = 'sans-serif'\n",
      "\n",
      "ax = agency_compare.head(20).plot(kind='barh',fontsize=8, color = ['#fb8072','#43a2ca'])\n",
      "ax.spines[\"top\"].set_visible(False)  \n",
      "ax.spines[\"bottom\"].set_visible(False)  \n",
      "ax.spines[\"right\"].set_visible(False)  \n",
      "ax.set_xlabel('Violation Categories',fontsize=12)\n",
      "ax.yaxis.grid(False)\n",
      "ax.xaxis.grid(linestyle='-',linewidth=0.1,which = 'minor',alpha=0.1) \n",
      "ax.set_axis_bgcolor('w')"
     ],
     "language": "python",
     "metadata": {},
     "outputs": [
      {
       "ename": "NameError",
       "evalue": "name 'violations_per_agency' is not defined",
       "output_type": "pyerr",
       "traceback": [
        "\u001b[0;31m---------------------------------------------------------------------------\u001b[0m\n\u001b[0;31mNameError\u001b[0m                                 Traceback (most recent call last)",
        "\u001b[0;32m<ipython-input-8-969f76a7c165>\u001b[0m in \u001b[0;36m<module>\u001b[0;34m()\u001b[0m\n\u001b[1;32m      2\u001b[0m \u001b[0;32mimport\u001b[0m \u001b[0mmatplotlib\u001b[0m \u001b[0;32mas\u001b[0m \u001b[0mmpl\u001b[0m\u001b[0;34m\u001b[0m\u001b[0m\n\u001b[1;32m      3\u001b[0m \u001b[0;34m\u001b[0m\u001b[0m\n\u001b[0;32m----> 4\u001b[0;31m \u001b[0magency_compare\u001b[0m \u001b[0;34m=\u001b[0m \u001b[0mpd\u001b[0m\u001b[0;34m.\u001b[0m\u001b[0mconcat\u001b[0m\u001b[0;34m(\u001b[0m\u001b[0;34m[\u001b[0m\u001b[0mviolations_per_agency\u001b[0m\u001b[0;34m,\u001b[0m \u001b[0mnew_violations_per_agency\u001b[0m\u001b[0;34m]\u001b[0m\u001b[0;34m,\u001b[0m \u001b[0maxis\u001b[0m\u001b[0;34m=\u001b[0m\u001b[0;36m1\u001b[0m\u001b[0;34m)\u001b[0m\u001b[0;34m\u001b[0m\u001b[0m\n\u001b[0m\u001b[1;32m      5\u001b[0m \u001b[0magency_compare\u001b[0m\u001b[0;34m.\u001b[0m\u001b[0msort\u001b[0m\u001b[0;34m(\u001b[0m\u001b[0mcolumns\u001b[0m \u001b[0;34m=\u001b[0m\u001b[0;34m'Charge #1: Code Description'\u001b[0m\u001b[0;34m,\u001b[0m\u001b[0mascending\u001b[0m\u001b[0;34m=\u001b[0m\u001b[0mFalse\u001b[0m\u001b[0;34m,\u001b[0m \u001b[0minplace\u001b[0m\u001b[0;34m=\u001b[0m\u001b[0mTrue\u001b[0m\u001b[0;34m)\u001b[0m\u001b[0;34m\u001b[0m\u001b[0m\n\u001b[1;32m      6\u001b[0m \u001b[0;34m\u001b[0m\u001b[0m\n",
        "\u001b[0;31mNameError\u001b[0m: name 'violations_per_agency' is not defined"
       ]
      }
     ],
     "prompt_number": 8
    },
    {
     "cell_type": "code",
     "collapsed": false,
     "input": [
      "agency_compare['% of decrease'] = 100.00*(agency_compare['Charge #1: Code Description'] - agency_compare['cluster']) \\\n",
      "                                    / agency_compare['Charge #1: Code Description']\n",
      "agency_compare.head(5)"
     ],
     "language": "python",
     "metadata": {},
     "outputs": [
      {
       "html": [
        "<div style=\"max-height:1000px;max-width:1500px;overflow:auto;\">\n",
        "<table border=\"1\" class=\"dataframe\">\n",
        "  <thead>\n",
        "    <tr style=\"text-align: right;\">\n",
        "      <th></th>\n",
        "      <th>Charge #1: Code Description</th>\n",
        "      <th>cluster</th>\n",
        "      <th>% of decrease</th>\n",
        "    </tr>\n",
        "  </thead>\n",
        "  <tbody>\n",
        "    <tr>\n",
        "      <th>DEPT. OF BUILDINGS</th>\n",
        "      <td> 202</td>\n",
        "      <td> 75</td>\n",
        "      <td> 62.871287</td>\n",
        "    </tr>\n",
        "    <tr>\n",
        "      <th>POLICE DEPARTMENT</th>\n",
        "      <td> 158</td>\n",
        "      <td> 87</td>\n",
        "      <td> 44.936709</td>\n",
        "    </tr>\n",
        "    <tr>\n",
        "      <th>DEPT OF TRANSPORTATION</th>\n",
        "      <td> 120</td>\n",
        "      <td> 65</td>\n",
        "      <td> 45.833333</td>\n",
        "    </tr>\n",
        "    <tr>\n",
        "      <th>SANITATION OTHERS</th>\n",
        "      <td> 116</td>\n",
        "      <td> 71</td>\n",
        "      <td> 38.793103</td>\n",
        "    </tr>\n",
        "    <tr>\n",
        "      <th>AGENCY CODE MISSING OR INVALID</th>\n",
        "      <td> 106</td>\n",
        "      <td> 91</td>\n",
        "      <td> 14.150943</td>\n",
        "    </tr>\n",
        "  </tbody>\n",
        "</table>\n",
        "</div>"
       ],
       "metadata": {},
       "output_type": "pyout",
       "prompt_number": 46,
       "text": [
        "                                Charge #1: Code Description  cluster  \\\n",
        "DEPT. OF BUILDINGS                                      202       75   \n",
        "POLICE DEPARTMENT                                       158       87   \n",
        "DEPT OF TRANSPORTATION                                  120       65   \n",
        "SANITATION OTHERS                                       116       71   \n",
        "AGENCY CODE MISSING OR INVALID                          106       91   \n",
        "\n",
        "                                % of decrease  \n",
        "DEPT. OF BUILDINGS                  62.871287  \n",
        "POLICE DEPARTMENT                   44.936709  \n",
        "DEPT OF TRANSPORTATION              45.833333  \n",
        "SANITATION OTHERS                   38.793103  \n",
        "AGENCY CODE MISSING OR INVALID      14.150943  "
       ]
      }
     ],
     "prompt_number": 46
    },
    {
     "cell_type": "code",
     "collapsed": false,
     "input": [
      "ax = agency_compare['% of decrease'].head(15).plot(kind='barh',fontsize=8, color = '#b2df8a')\n",
      "ax.spines[\"top\"].set_visible(False)  \n",
      "ax.spines[\"bottom\"].set_visible(False)  \n",
      "ax.spines[\"right\"].set_visible(False)  \n",
      "ax.set_xlabel('% of Categories Decrease',fontsize=12)\n",
      "ax.yaxis.grid(False)\n",
      "ax.xaxis.grid(linestyle='-',linewidth=0.1,which = 'minor',alpha=0.1) \n",
      "ax.set_axis_bgcolor('w')"
     ],
     "language": "python",
     "metadata": {},
     "outputs": [
      {
       "metadata": {},
       "output_type": "display_data",
       "png": "[encoded data removed]",
       "text": [
        "<matplotlib.figure.Figure at 0x112ea7590>"
       ]
      }
     ],
     "prompt_number": 48
    },
    {
     "cell_type": "code",
     "collapsed": false,
     "input": [
      "print groups.mean()\n",
      "print new_groups.mean()"
     ],
     "language": "python",
     "metadata": {},
     "outputs": [
      {
       "output_type": "stream",
       "stream": "stdout",
       "text": [
        "1.06458966406\n",
        "1.0636938121\n"
       ]
      }
     ],
     "prompt_number": 56
    },
    {
     "cell_type": "code",
     "collapsed": false,
     "input": [
      "from datetime import datetime\n",
      "df['Violation Date'].head()\n",
      "df['Violation Date']= df['Violation Date'].apply(lambda x: datetime.strptime(x, '%m/%d/%Y'))"
     ],
     "language": "python",
     "metadata": {},
     "outputs": [],
     "prompt_number": 61
    },
    {
     "cell_type": "code",
     "collapsed": false,
     "input": [
      "df['Violation Date'].head()"
     ],
     "language": "python",
     "metadata": {},
     "outputs": [
      {
       "metadata": {},
       "output_type": "pyout",
       "prompt_number": 62,
       "text": [
        "0   2014-12-31\n",
        "1   2014-12-31\n",
        "2   2014-12-31\n",
        "3   2014-12-31\n",
        "4   2014-12-31\n",
        "Name: Violation Date, dtype: datetime64[ns]"
       ]
      }
     ],
     "prompt_number": 62
    },
    {
     "cell_type": "code",
     "collapsed": false,
     "input": [
      "df['Violation Month'] = df['Violation Date'].apply(lambda x: x.month)\n",
      "df['Violation Month'].head()"
     ],
     "language": "python",
     "metadata": {},
     "outputs": [
      {
       "metadata": {},
       "output_type": "pyout",
       "prompt_number": 63,
       "text": [
        "0    12\n",
        "1    12\n",
        "2    12\n",
        "3    12\n",
        "4    12\n",
        "Name: Violation Month, dtype: int64"
       ]
      }
     ],
     "prompt_number": 63
    },
    {
     "cell_type": "code",
     "collapsed": false,
     "input": [
      "groups = df.groupby(['Violation Month','Violation Location (Borough)','Violation Location (Block No.)'\\\n",
      "                     ,'Violation Location (Lot No.)'])['Charge #1: Code Description']\\\n",
      "                        .nunique().sort(ascending=False, inplace=False)\n",
      "print groups.mean()"
     ],
     "language": "python",
     "metadata": {},
     "outputs": [
      {
       "output_type": "stream",
       "stream": "stdout",
       "text": [
        "1.2059095586\n"
       ]
      }
     ],
     "prompt_number": 67
    },
    {
     "cell_type": "code",
     "collapsed": false,
     "input": [
      "new_groups = df.groupby(['Violation Month','Violation Location (Borough)','Violation Location (Block No.)'\\\n",
      "                     ,'Violation Location (Lot No.)'])['cluster']\\\n",
      "                        .nunique().sort(ascending=False, inplace=False)\n",
      "print new_groups.mean()"
     ],
     "language": "python",
     "metadata": {},
     "outputs": [
      {
       "output_type": "stream",
       "stream": "stdout",
       "text": [
        "1.20465198458\n"
       ]
      }
     ],
     "prompt_number": 68
    },
    {
     "cell_type": "code",
     "collapsed": false,
     "input": [
      "groups = df.groupby(['Violation Location (Borough)','Violation Location (Block No.)'\\\n",
      "                     ,'Violation Location (Lot No.)'])['Charge #1: Code Description']\\\n",
      "                        .nunique().sort(ascending=False, inplace=False)\n",
      "print groups.mean()"
     ],
     "language": "python",
     "metadata": {},
     "outputs": [
      {
       "output_type": "stream",
       "stream": "stdout",
       "text": [
        "1.93763241127\n"
       ]
      }
     ],
     "prompt_number": 69
    },
    {
     "cell_type": "code",
     "collapsed": false,
     "input": [
      "new_groups = df.groupby(['Violation Location (Borough)','Violation Location (Block No.)'\\\n",
      "                     ,'Violation Location (Lot No.)'])['cluster']\\\n",
      "                        .nunique().sort(ascending=False, inplace=False)\n",
      "print new_groups.mean()"
     ],
     "language": "python",
     "metadata": {},
     "outputs": [
      {
       "output_type": "stream",
       "stream": "stdout",
       "text": [
        "1.9328580752\n"
       ]
      }
     ],
     "prompt_number": 72
    },
    {
     "cell_type": "code",
     "collapsed": false,
     "input": [],
     "language": "python",
     "metadata": {},
     "outputs": []
    }
   ],
   "metadata": {}
  }
 ]
}